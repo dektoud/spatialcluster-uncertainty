{
 "cells": [
  {
   "cell_type": "code",
   "execution_count": null,
   "metadata": {
    "ExecuteTime": {
     "end_time": "2019-04-30T05:07:44.464345Z",
     "start_time": "2019-04-30T05:07:42.296502Z"
    }
   },
   "outputs": [],
   "source": [
    "import sys; sys.path.insert(0, \"C:/GIT/python-local/pygeostat_freeze/\")\n",
    "sys.path.insert(0, '../')\n",
    "import pygeostat as gs\n",
    "import gglib as gg\n",
    "import numpy as np\n",
    "np.set_printoptions(precision=4, suppress=True)\n",
    "import pandas as pd\n",
    "import matplotlib as mpl\n",
    "import matplotlib.pyplot as plt\n",
    "import os, copy, shutil, sys, glob, time\n",
    "from mpl_toolkits.axes_grid1 import ImageGrid\n",
    "from mpl_toolkits.mplot3d import Axes3D\n",
    "from matplotlib.backends.backend_pdf import PdfPages\n",
    "from collections import OrderedDict\n",
    "import numba\n",
    "from gglib.datamgmt.simpleio import *\n",
    "%matplotlib inline"
   ]
  },
  {
   "cell_type": "code",
   "execution_count": null,
   "metadata": {
    "ExecuteTime": {
     "end_time": "2018-03-16T01:22:24.193985Z",
     "start_time": "2018-03-16T01:22:16.412311Z"
    }
   },
   "outputs": [],
   "source": [
    "rm.mpl_setup()\n",
    "def chapterexport(filename, *args, **kwargs):\n",
    "    rm.thesis_export(filename, chap=6, **kwargs)"
   ]
  },
  {
   "cell_type": "markdown",
   "metadata": {},
   "source": [
    "# functions"
   ]
  },
  {
   "cell_type": "code",
   "execution_count": null,
   "metadata": {},
   "outputs": [],
   "source": [
    "def cov(x1, x2):\n",
    "    \"\"\" covariance of the 1D arrays x1 and x2\"\"\"\n",
    "    assert(x1.shape[0] == x2.shape[0]), \"must pass arrays of similar shape!\"\n",
    "    m1 = x1.mean(axis=0)\n",
    "    z1 = x1 - m1\n",
    "    m2 = x2.mean(axis=0)\n",
    "    z2 = x2 - m2\n",
    "    return ((z2 * z1).sum(axis=0) - m1*m2) / x1.shape[0]\n",
    "\n",
    "def corr(x1, x2):\n",
    "    \"\"\" correlation between 1D arrays x1 and x2 \"\"\"\n",
    "    return cov(x1, x2) / (x1.std(axis=0) * x2.std(axis=0))\n",
    "\n",
    "def rankcorr(x1, x2):\n",
    "    from scipy.stats import pearsonr\n",
    "    return pearsonr(x1, x2)[0]\n",
    "\n",
    "def rmse(pred, truth):\n",
    "    return np.sqrt(np.mean((pred - truth) ** 2))\n",
    "\n",
    "def mae(pred, truth):\n",
    "    return np.mean(np.abs(pred - truth))\n",
    "\n",
    "import matplotlib.colors as colors\n",
    "def truncate_colormap(cmap, minval=0.0, maxval=1.0, n=256):\n",
    "    \"from: https://stackoverflow.com/a/18926541/5545005\"\n",
    "    cmap = plt.get_cmap(cmap)\n",
    "    new_cmap = colors.LinearSegmentedColormap.from_list(\n",
    "        'trunc({n},{a:.2f},{b:.2f})'.format(n=cmap.name, a=minval, b=maxval),\n",
    "        cmap(np.linspace(minval, maxval, n)))\n",
    "    return new_cmap"
   ]
  },
  {
   "cell_type": "markdown",
   "metadata": {},
   "source": [
    "# project imports and datafiles"
   ]
  },
  {
   "cell_type": "code",
   "execution_count": null,
   "metadata": {
    "ExecuteTime": {
     "end_time": "2018-03-16T01:22:24.332164Z",
     "start_time": "2018-03-16T01:22:24.196514Z"
    }
   },
   "outputs": [],
   "source": [
    "from _oilsands_project_defs import *\n",
    "qf = gg.QuickFormatter(fs=6)"
   ]
  },
  {
   "cell_type": "code",
   "execution_count": null,
   "metadata": {},
   "outputs": [],
   "source": [
    "project = 'oilsands'"
   ]
  },
  {
   "cell_type": "code",
   "execution_count": null,
   "metadata": {},
   "outputs": [],
   "source": [
    "points = gg.PointContainer(f'{project}_maincats.dat')"
   ]
  },
  {
   "cell_type": "code",
   "execution_count": null,
   "metadata": {},
   "outputs": [],
   "source": [
    "names = ['reals_ensbest', 'reals_random', 'modelcats', 'mvclus', \n",
    "         'agglom', 'betteragglom', 'nodomains']\n",
    "titles = [\"Category Realizations\",\n",
    "          \"Random Domain\", \"Geological Categories\", \n",
    "          \"Multivariate Clusters\", \"Spatial Clusters\", \"Improved Spatial Clusters\",\n",
    "          \"No Domains\"]\n",
    "names = OrderedDict([(k, t) for k, t in zip(names, titles)])"
   ]
  },
  {
   "cell_type": "code",
   "execution_count": null,
   "metadata": {},
   "outputs": [],
   "source": [
    "workdir = 'L:/Thesis/Ch6/oilsands_test/'"
   ]
  },
  {
   "cell_type": "code",
   "execution_count": null,
   "metadata": {},
   "outputs": [],
   "source": [
    "nfolds = 5\n",
    "ifolds = np.arange(nfolds, dtype=int) + 1\n",
    "nreal = 100"
   ]
  },
  {
   "cell_type": "markdown",
   "metadata": {},
   "source": [
    "# Import Fold Files"
   ]
  },
  {
   "cell_type": "code",
   "execution_count": null,
   "metadata": {},
   "outputs": [],
   "source": [
    "valdict = {}\n",
    "for var in variables:\n",
    "    for name, title in names.items():\n",
    "        for ifold in ifolds:\n",
    "            valdict[var, name, ifold] = \\\n",
    "                read_gslib(f'{workdir}{name}_{var}_fold{ifold}.out').values"
   ]
  },
  {
   "cell_type": "markdown",
   "metadata": {},
   "source": [
    "## scatplts"
   ]
  },
  {
   "cell_type": "code",
   "execution_count": null,
   "metadata": {
    "scrolled": false
   },
   "outputs": [],
   "source": [
    "qf = gg.QuickFormatter(fs=6, nticks=(6, 6))\n",
    "for var in variables:\n",
    "    acaxs = qf.getax(len(names), shape=(3, 3), figsize=(5.8, 6))\n",
    "    iax = 0\n",
    "    for (name, title), ax in zip(names.items(), acaxs):\n",
    "        etypes = np.empty(0)\n",
    "        truths = np.empty(0)\n",
    "        for ifold in ifolds:\n",
    "            thisdata = valdict[var, name, ifold]\n",
    "            ids = thisdata[:, 0:1]\n",
    "            xyz = thisdata[:, 1:4]\n",
    "            truth = thisdata[:, 4:5].flatten()\n",
    "            reals = thisdata[:, 5:]\n",
    "            etype = np.mean(reals, axis=1).flatten()\n",
    "            truths = np.concatenate((truths, truth))\n",
    "            etypes = np.concatenate((etypes, etype))\n",
    "        ax = gs.scatxval(etypes, truths, ax=ax, \n",
    "                         title=f'{var}, {title}', ms=1, pltstyle='pt5.5')\n",
    "        qf(ax, fignum=iax, lblxy=(0.01, 1.05), aspect=1, \n",
    "           xlim=(0, None), ylim=(0, None))\n",
    "        iax += 1\n",
    "    plt.subplots_adjust(hspace=0.35)\n",
    "    chapterexport(f'oilsands_scatxval_all_{var}.pdf')"
   ]
  },
  {
   "cell_type": "code",
   "execution_count": null,
   "metadata": {},
   "outputs": [],
   "source": [
    "for var in variables:\n",
    "    errdf = pd.DataFrame(columns=names.values(), \n",
    "                         index=['Covariance', 'Correlation', 'RMSE'])\n",
    "    for name, title in names.items():\n",
    "        etypes = np.empty(0)\n",
    "        truths = np.empty(0)\n",
    "        for ifold in ifolds:\n",
    "            thisdata = valdict[var, name, ifold]\n",
    "            ids = thisdata[:, 0:1]\n",
    "            xyz = thisdata[:, 1:4]\n",
    "            truth = thisdata[:, 4]\n",
    "            reals = thisdata[:, 5:]\n",
    "            etype = np.mean(reals, axis=1).flatten()\n",
    "            truths = np.concatenate((truths, truth))\n",
    "            etypes = np.concatenate((etypes, etype))\n",
    "        errdf.loc['Covariance', title] = cov(etypes, truths)\n",
    "        errdf.loc['Correlation', title] = corr(etypes, truths)\n",
    "        errdf.loc['RMSE', title] = rmse(etypes, truths)\n",
    "    rm.latex_table(errdf.T, index=True, table_width_cm=9, float_prec=2, \n",
    "                  caption=(f'{var} K-Fold error statistics by category, oilsands dataset.'), \n",
    "                   label=f'os_errorstats_{var.lower()}'\n",
    "                  )"
   ]
  },
  {
   "cell_type": "markdown",
   "metadata": {},
   "source": [
    "## accplts"
   ]
  },
  {
   "cell_type": "code",
   "execution_count": null,
   "metadata": {},
   "outputs": [],
   "source": [
    "accpltdict = {}\n",
    "for var in variables:\n",
    "    iax = 0\n",
    "    for (name, title), ax in zip(names.items(), acaxs):\n",
    "        probs = None\n",
    "        for ifold in ifolds:\n",
    "            thisdata = valdict[var, name, ifold]\n",
    "            xyz = thisdata[:, :4]\n",
    "            truth = thisdata[:, 4:5].flatten()\n",
    "            reals = thisdata[:, 5:]\n",
    "            thisaccsim, sumstats = gs.accsim(truth, reals)\n",
    "            if probs is None:\n",
    "                probs = thisaccsim\n",
    "            else:\n",
    "                probs['FracIn'] += thisaccsim['FracIn']\n",
    "        accpltdict[var, name] = [probs['ProbInt'], probs['FracIn'] / nfolds, sumstats]"
   ]
  },
  {
   "cell_type": "code",
   "execution_count": null,
   "metadata": {},
   "outputs": [],
   "source": [
    "statnames = {\n",
    "    'avgvar': 'U', \n",
    "    'mse': 'MSE', \n",
    "    'acc': 'Accuracy', \n",
    "    'pre': 'Precision', \n",
    "    'goo': 'Goodness'\n",
    "}"
   ]
  },
  {
   "cell_type": "code",
   "execution_count": null,
   "metadata": {
    "scrolled": false
   },
   "outputs": [],
   "source": [
    "for var in variables:\n",
    "    acaxs = qf.getax(len(names), shape=(3, 3), figsize=(5.8, 6))\n",
    "    iax = 0\n",
    "    for (name, title), ax in zip(names.items(), acaxs):\n",
    "        probs = accpltdict[var, name]\n",
    "        ax = gs.accplt(x=probs[0], y=probs[1], ax=ax, stat_blk=False, \n",
    "                       title=f'{var}, {title}', pltstyle='pt5.5', ms=2)\n",
    "        qf(ax, fignum=iax, lblxy=(0.01, 1.05), \n",
    "           annot='\\n'.join([f'{statnames[k]} = {probs[2][k]:.3f}' \n",
    "                            for k in statnames.keys()]), \n",
    "           annha='left', annva='top', annxy=(0.01, 0.99),\n",
    "           aspect=1, nticks='auto',\n",
    "          )\n",
    "        iax += 1\n",
    "    plt.subplots_adjust(hspace=0.35)\n",
    "    chapterexport(f'oilsands_accplt_all_{var}.pdf')"
   ]
  },
  {
   "cell_type": "markdown",
   "metadata": {},
   "source": [
    "# histreproduction"
   ]
  },
  {
   "cell_type": "code",
   "execution_count": null,
   "metadata": {},
   "outputs": [],
   "source": [
    "finaldir = 'L:/Thesis/Ch6/oilsands_final/'"
   ]
  },
  {
   "cell_type": "code",
   "execution_count": null,
   "metadata": {},
   "outputs": [],
   "source": [
    "declus = gg.PolyDecluster(points, griddef.convert_to_2d(), dhcol=points.dh)\n",
    "points['Declustering Weight'] = declus.decluster().values"
   ]
  },
  {
   "cell_type": "code",
   "execution_count": null,
   "metadata": {
    "scrolled": false
   },
   "outputs": [],
   "source": [
    "for var in variables:\n",
    "    acaxs = qf.getax(len(names), shape=(3, 3), figsize=(6, 6))\n",
    "    iax = 0\n",
    "    for (name, title), ax in zip(names.items(), acaxs):\n",
    "        allreals = [gs.readfile(f'{finaldir}{name}/Final/mergedbtr_{i}.gsb')[var] for i in range(nreal)]\n",
    "        allreals = pd.concat(allreals, axis=1).values\n",
    "        allreals[allreals <= -999] = np.nan\n",
    "        ax = gg.histpltsim(allreals, points[var], refwts=points['Declustering Weight'], \n",
    "                           ax=ax, title=f'{var}, {title}', stat_fs=6)\n",
    "        qf(ax, fignum=iax, lblxy=(0.01, 1.05), xlabel=var, ylabel='Cumulative Probability')\n",
    "        iax += 1    \n",
    "    plt.tight_layout(pad=1.2)\n",
    "    chapterexport(f'oilsands_histpltsim_{var}.pdf')\n",
    "    import gc; gc.collect()"
   ]
  },
  {
   "cell_type": "markdown",
   "metadata": {},
   "source": [
    "# vario reproduction"
   ]
  },
  {
   "cell_type": "code",
   "execution_count": null,
   "metadata": {},
   "outputs": [],
   "source": [
    "varsim = gs.Program('../exes/varsim')\n",
    "varsimpar = \"\"\"START OF PARAMETERS:\n",
    "    nodata               -file with lithology information\n",
    "    0   7                        -   lithology column (0=not used), code\n",
    "    {datfl}                   -file with data\n",
    "    {nvar}   {varcols}            -   number of variables, column numbers\n",
    "    {ltrim}     1.0e21    -   trimming limits\n",
    "    {outfl}      -output file for variograms of realizations\n",
    "    {avgfl}        -output file for average variogram\n",
    "    {griddef}\n",
    "     1                  -number of realizations\n",
    "    2  25                 -number of directions, number of lags\n",
    "     3  -1  0              -ixd(1),iyd(1),izd(1)\n",
    "     0  0  1              -ixd(2),iyd(2),izd(2)\n",
    "    1                     -standardize sill? (0=no, 1=yes)\n",
    "    {nvario}                     -number of variograms\n",
    "    {variotypes}\n",
    "\"\"\"\n",
    "vartemp = \"\"\"{}   {}   {}             -tail variable, head variable, variogram type\"\"\""
   ]
  },
  {
   "cell_type": "code",
   "execution_count": null,
   "metadata": {
    "scrolled": false
   },
   "outputs": [],
   "source": [
    "results = {}\n",
    "for name, title in gg.log_progress(names.items()):\n",
    "    parallelpars = []\n",
    "    for ivar, var in enumerate(variables): \n",
    "        for ireal in range(nreal):\n",
    "            fmtpar = varsimpar.format(\n",
    "                datfl=f'{finaldir}{name}/Final/mergedbtr_{ireal}.gsb',\n",
    "                nvar=1, varcols=ivar + 1, \n",
    "                ltrim=-998, \n",
    "                outfl=f'{finaldir}{name}/Final/varsim_{var}_{ireal}.out',\n",
    "                avgfl=f'{finaldir}{name}/Final/varsimavg_{var}_{ireal}.out',\n",
    "                griddef=griddef,\n",
    "                nvario=1, variotypes=vartemp.format(1, 1, 1)\n",
    "            )\n",
    "            parallelpars.append(\n",
    "                dict(parstr=fmtpar, \n",
    "                     parfile=f'{finaldir}{name}/Final/varsim_{var}_{ireal}.par')\n",
    "            )\n",
    "    gs.runparallel(varsim, parallelpars, processes=nprocesses, \n",
    "                   mute=True, reportprogress=True)\n",
    "    for ivar, var in enumerate(variables): \n",
    "        results[name, var] = {'major': {}, 'vert': {}}\n",
    "        for ireal in range(nreal):\n",
    "            varfl = f'{finaldir}{name}/Final/varsim_{var}_{ireal}.out'\n",
    "            vardat = gs.readfile(varfl)\n",
    "            vardat.columns = ['idx', 'h', 'numpairs', 'vario',\n",
    "                              'Variogram Number', 'azm', 'Calculation Dip',\n",
    "                              'Variogram Type']\n",
    "            avgfl = f'{finaldir}{name}/Final/varsimavg_{var}_{ireal}.out'\n",
    "            parfile = f'{finaldir}{name}/Final/varsim_{var}_{ireal}.par'\n",
    "            gs.cleantemp([varfl, avgfl, parfile])\n",
    "            results[name, var]['major'][ireal] = \\\n",
    "                vardat.loc[vardat['idx'] == 1].reset_index(drop=True)\n",
    "            results[name, var]['vert'][ireal] = \\\n",
    "                vardat.loc[vardat['idx'] == 2].reset_index(drop=True)"
   ]
  },
  {
   "cell_type": "code",
   "execution_count": null,
   "metadata": {},
   "outputs": [],
   "source": [
    "rm.PYGSDEFAULTS['units'] = 'm'\n",
    "rm.PYGSDEFAULTS['unit'] = 'm' \n",
    "qf = gg.QuickFormatter(fs=6)\n",
    "def plotvarsim(varsimdict, refmodel, title, axs=None):\n",
    "    if axs is None: \n",
    "        axs = qf.getax(2)\n",
    "    ax = axs[0]\n",
    "    for ireal in range(nreal):\n",
    "        ax = gs.varplt(varsimdict['major'][ireal], experimental=False, ax=ax,\n",
    "                       color='grey', lw=0.25, label='_nolegend_')\n",
    "    maxh = varsimdict['major'][ireal]['h'].max()\n",
    "    ax = gs.varplt(refmodel.principlepts('major', maxh), experimental=False, ax=ax,\n",
    "                   color='red', lw=1, zorder=5, label='Global Model')\n",
    "    ax.plot(np.nan, color='grey', lw=0.25, label='Realizations')\n",
    "    ax.set_xbound(0)\n",
    "    qf(ax, annot=f'{title}\\nHorizontal', \n",
    "       annxy=(0.02, 1.01), annha='left', annva='top', annfs=6)\n",
    "    ax.legend(loc='lower right', fontsize='x-small')\n",
    "    ax.set_ylabel('$\\\\gamma$', fontsize=10)\n",
    "    ax = axs[1]\n",
    "    for ireal in range(nreal):\n",
    "        ax = gs.varplt(varsimdict['vert'][ireal], experimental=False, ax=ax,\n",
    "                       color='grey', lw=0.25, label='_nolegend_')\n",
    "    maxh = varsimdict['vert'][ireal]['h'].max()\n",
    "    ax = gs.varplt(refmodel.principlepts('vert', maxh), experimental=False, ax=ax,\n",
    "                   color='red', lw=0.5, zorder=5, label='Global Model')\n",
    "    ax.plot(np.nan, color='grey', lw=0.25, label='Realizations')\n",
    "    ax.set_xbound(0)\n",
    "    qf(ax, annot=f'Vertical', \n",
    "       annxy=(0.02, 1.01), annha='left', annva='top', annfs=6)\n",
    "    ax.legend(loc='lower right', fontsize='x-small')\n",
    "    ax.set_ylabel('$\\\\gamma$', fontsize=10)\n"
   ]
  },
  {
   "cell_type": "code",
   "execution_count": null,
   "metadata": {},
   "outputs": [],
   "source": [
    "ouvarmodels = gg.load_pickle('oilsands_ouvarmodels.pkl')"
   ]
  },
  {
   "cell_type": "code",
   "execution_count": null,
   "metadata": {},
   "outputs": [],
   "source": [
    "from gglib.utils import traverse"
   ]
  },
  {
   "cell_type": "code",
   "execution_count": null,
   "metadata": {
    "scrolled": false
   },
   "outputs": [],
   "source": [
    "topnames = list(names.keys())[:4]\n",
    "for var in variables: \n",
    "    nplot = len(topnames)\n",
    "    outeraxes = qf.nestedax((2, nplot), order='row', figsize=(6 * (nplot / 4), 3))\n",
    "    for iname, (name, axs) in enumerate(zip(topnames, outeraxes)):\n",
    "        refvario = gg.VarModel(ouvarmodels['nodomains', 1, var])\n",
    "        simvarios = results[name, var]\n",
    "        axs = plotvarsim(simvarios, refvario, names[name], axs)   \n",
    "        qf(axs[0], fignum=iname, lblxy=(0.01, 1.06), lblha='right')\n",
    "    qf(outeraxes, fs=5)\n",
    "    for ax in traverse(outeraxes):\n",
    "        ax.set_ylabel('$\\\\gamma$', fontsize=12)\n",
    "        ax.yaxis.labelpad = 4.5\n",
    "    chapterexport(f'oilsands_varsim_{var}_top.pdf')\n",
    "    plt.show()\n",
    "\n",
    "botnames = list(names.keys())[4:]\n",
    "for var in variables: \n",
    "    nplot = len(botnames)\n",
    "    outeraxes = qf.nestedax((2, len(botnames)), order='row', figsize=(6 * (nplot / 4), 3))\n",
    "    for iname, (name, axs) in enumerate(zip(botnames, outeraxes)):\n",
    "        refvario = gg.VarModel(ouvarmodels['nodomains', 1, var])\n",
    "        simvarios = results[name, var]\n",
    "        axs = plotvarsim(simvarios, refvario, names[name], axs)   \n",
    "        qf(axs[0], fignum=iname + 4, lblxy=(0.01, 1.06), lblha='right')\n",
    "    qf(outeraxes, fs=5)\n",
    "    for ax in traverse(outeraxes):\n",
    "        ax.set_ylabel('$\\\\gamma$', fontsize=12)\n",
    "        ax.yaxis.labelpad = 4.5\n",
    "    chapterexport(f'oilsands_varsim_{var}_bot.pdf')\n",
    "    plt.show()"
   ]
  },
  {
   "cell_type": "code",
   "execution_count": null,
   "metadata": {},
   "outputs": [],
   "source": []
  }
 ],
 "metadata": {
  "kernelspec": {
   "display_name": "Python 3",
   "language": "python",
   "name": "python3"
  },
  "language_info": {
   "codemirror_mode": {
    "name": "ipython",
    "version": 3
   },
   "file_extension": ".py",
   "mimetype": "text/x-python",
   "name": "python",
   "nbconvert_exporter": "python",
   "pygments_lexer": "ipython3",
   "version": "3.6.8"
  },
  "toc": {
   "base_numbering": 1,
   "nav_menu": {},
   "number_sections": true,
   "sideBar": true,
   "skip_h1_title": false,
   "title_cell": "Table of Contents",
   "title_sidebar": "Contents",
   "toc_cell": false,
   "toc_position": {
    "height": "calc(100% - 180px)",
    "left": "10px",
    "top": "150px",
    "width": "165px"
   },
   "toc_section_display": "block",
   "toc_window_display": true
  }
 },
 "nbformat": 4,
 "nbformat_minor": 2
}
